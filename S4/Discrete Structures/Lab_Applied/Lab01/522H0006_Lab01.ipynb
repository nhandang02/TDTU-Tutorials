{
  "cells": [
    {
      "cell_type": "code",
      "execution_count": 1,
      "metadata": {
        "colab": {
          "base_uri": "https://localhost:8080/"
        },
        "id": "IOAQmUQ8zTl-",
        "outputId": "156c6d1e-3b75-4bcb-b1de-e5f8da99f3b2"
      },
      "outputs": [
        {
          "name": "stdout",
          "output_type": "stream",
          "text": [
            "(a) Result: 86\n",
            "(b) Result: 35\n",
            "(c) Result: 130\n",
            "(d) Result: 0.3333333333333333\n",
            "(e) Result: 14.0\n",
            "(f) Result: -0.06896551724137931\n"
          ]
        }
      ],
      "source": [
        "#Exercise01\n",
        "\n",
        "# (a)\n",
        "a = 15 * 2 + 7 * 8\n",
        "print(\"(a) Result:\", a)\n",
        "\n",
        "# (b)\n",
        "b = 20 - 15 + 15 * 2\n",
        "print(\"(b) Result:\", b)\n",
        "\n",
        "# (c)\n",
        "c = 20 + 30 - 3 * 15 + 5 * 5**2\n",
        "print(\"(c) Result:\", c)\n",
        "\n",
        "# (d)\n",
        "d = (4/6 + 2/6) / (5/2 + 1/2)\n",
        "print(\"(d) Result:\", d)\n",
        "\n",
        "# (e)\n",
        "e = 14/2 + 7\n",
        "print(\"(e) Result:\", e)\n",
        "\n",
        "# (f)\n",
        "f = (5 * 2) / (5 - 20 * 3**2 + 30)\n",
        "print(\"(f) Result:\", f)"
      ]
    },
    {
      "cell_type": "code",
      "execution_count": 16,
      "metadata": {
        "colab": {
          "base_uri": "https://localhost:8080/"
        },
        "id": "h_wv6UeA1EwP",
        "outputId": "2f46ffde-3401-47cf-f906-4ae1b5acc10b"
      },
      "outputs": [
        {
          "name": "stdout",
          "output_type": "stream",
          "text": [
            "(a) 15 * 2 + 7 * 8=86 \n",
            "(b) 20 - 15 + 15 * 2=35 \n",
            "(c) 20 + 30 - 3 * 15 + 5 * 5**2=130 \n",
            "(d) 4/6 + 2/6) / (5/2 + 1/2)=0.3333333333333333 \n",
            "(e) 14/2 + 7=14.0 \n",
            "(f) (5 * 2) / (5 - 20 * 3**2 + 30)=-0.06896551724137931 \n"
          ]
        }
      ],
      "source": [
        "#Exercise02\n",
        "\n",
        "# (a)\n",
        "a = 15 * 2 + 7 * 8\n",
        "print(\"(a) {}={} \".format(\"15 * 2 + 7 * 8\", a))\n",
        "\n",
        "# (b)\n",
        "b = 20 - 15 + 15 * 2\n",
        "print(\"(b) {}={} \".format(\"20 - 15 + 15 * 2\", b))\n",
        "\n",
        "# (c)\n",
        "c = 20 + 30 - 3 * 15 + 5 * 5**2\n",
        "print(\"(c) {}={} \".format(\"20 + 30 - 3 * 15 + 5 * 5**2\", c))\n",
        "\n",
        "# (d)\n",
        "d = (4/6 + 2/6) / (5/2 + 1/2)\n",
        "print(\"(d) {}={} \".format(\"4/6 + 2/6) / (5/2 + 1/2)\", d))\n",
        "\n",
        "# (e)\n",
        "e = 14/2 + 7\n",
        "print(\"(e) {}={} \".format(\"14/2 + 7\", e))\n",
        "\n",
        "# (f)\n",
        "f = (5 * 2) / (5 - 20 * 3**2 + 30)\n",
        "print(\"(f) {}={} \".format(\"(5 * 2) / (5 - 20 * 3**2 + 30)\", f))"
      ]
    },
    {
      "cell_type": "code",
      "execution_count": 19,
      "metadata": {
        "colab": {
          "base_uri": "https://localhost:8080/"
        },
        "id": "9J-ODAiE2dSf",
        "outputId": "dcfe88e0-5368-439c-f7ce-a44407aa0cef"
      },
      "outputs": [
        {
          "name": "stdout",
          "output_type": "stream",
          "text": [
            "sumN_string(2):  0+1+2=3\n",
            "sumN_string(-5):  0+-1+-2+-3+-4+-5=-15\n"
          ]
        }
      ],
      "source": [
        "#Exercise03\n",
        "\n",
        "def sumN(n):\n",
        "    if n >= 0:\n",
        "        numbers = list(range(n + 1))\n",
        "        result = \"+\".join(map(str, numbers))\n",
        "    else:\n",
        "        numbers = list(range(0, n - 1, -1))\n",
        "        result = \"+\".join(map(str, numbers))\n",
        "\n",
        "    return \"{}={}\".format(result, sum(numbers))\n",
        "\n",
        "# Example usage:\n",
        "result_positive = sumN(2)\n",
        "print(\"sumN_string(2): \", result_positive)\n",
        "\n",
        "result_negative = sumN(-5)\n",
        "print(\"sumN_string(-5): \", result_negative)\n",
        "\n"
      ]
    },
    {
      "cell_type": "code",
      "execution_count": 20,
      "metadata": {
        "colab": {
          "base_uri": "https://localhost:8080/"
        },
        "id": "tedm6QRP4i6G",
        "outputId": "4dcd7cd2-52dd-4aa9-caf6-4dffb4af8677"
      },
      "outputs": [
        {
          "name": "stdout",
          "output_type": "stream",
          "text": [
            "Input your string: Dang Thanh Nhan\n",
            "(a) Result: DangThanhNhan\n",
            "(b) Result: Dang_Thanh_Nhan\n"
          ]
        }
      ],
      "source": [
        "#Exercise04\n",
        "\n",
        "def process_string():\n",
        "    A = input(\"Input your string: \")\n",
        "\n",
        "    # (a) Remove all space (\" \")\n",
        "    B = A.split()\n",
        "    result_a = \"\".join(B)\n",
        "    print(\"(a) Result:\", result_a)\n",
        "\n",
        "    # (b) Replace all space (\" \") with “_”\n",
        "    result_b = \"_\".join(B)\n",
        "    print(\"(b) Result:\", result_b)\n",
        "\n",
        "# Example usage:\n",
        "process_string()\n"
      ]
    },
    {
      "cell_type": "code",
      "execution_count": 21,
      "metadata": {
        "colab": {
          "base_uri": "https://localhost:8080/"
        },
        "id": "2VoSe2xw6Y8o",
        "outputId": "100f9557-a1a1-4632-d61e-d15c13b0bcce"
      },
      "outputs": [
        {
          "name": "stdout",
          "output_type": "stream",
          "text": [
            "Input your operation (e.g., 1+2): 2 / 3\n",
            "Output: 0.6666666666666666\n"
          ]
        }
      ],
      "source": [
        "#Exercise05\n",
        "\n",
        "def calculate_operation(input_string):\n",
        "    # Separating input into three substrings: first number, operator, second number\n",
        "    parts = input_string.split()\n",
        "    num1 = int(parts[0])\n",
        "    operator = parts[1]\n",
        "    num2 = int(parts[2])\n",
        "\n",
        "    # Performing the operation based on the operator\n",
        "    if operator == '+':\n",
        "        result = num1 + num2\n",
        "    elif operator == '-':\n",
        "        result = num1 - num2\n",
        "    elif operator == '*':\n",
        "        result = num1 * num2\n",
        "    elif operator == '/':\n",
        "        if num2 != 0:\n",
        "            result = num1 / num2\n",
        "        else:\n",
        "            return \"Error: Division by zero\"\n",
        "    elif operator == '%':\n",
        "        result = num1 % num2\n",
        "    elif operator == '^':\n",
        "        result = num1 ** num2\n",
        "    else:\n",
        "        return \"Error: Invalid operator\"\n",
        "\n",
        "    return result\n",
        "\n",
        "# Example usage:\n",
        "input_str = input(\"Input your operation (e.g., 1+2): \")\n",
        "output_result = calculate_operation(input_str)\n",
        "print(\"Output:\", output_result)\n"
      ]
    },
    {
      "cell_type": "code",
      "execution_count": 23,
      "metadata": {
        "colab": {
          "base_uri": "https://localhost:8080/"
        },
        "id": "3Ibp-7mE7HG2",
        "outputId": "eb9dcc32-9c8c-4096-e2d9-d00e45ba4894"
      },
      "outputs": [
        {
          "name": "stdout",
          "output_type": "stream",
          "text": [
            "Input your operation (e.g., 1+2): 2 / 3\n",
            "Output: 0.6666666666666666\n"
          ]
        }
      ],
      "source": [
        "#Exercise06\n",
        "\n",
        "def calculate_operation_with_dict(input_string):\n",
        "    # Separating input into three substrings: first number, operator, second number\n",
        "    parts = input_string.split()\n",
        "    num1 = int(parts[0])\n",
        "    operator = parts[1]\n",
        "    num2 = int(parts[2])\n",
        "\n",
        "    # Dictionary mapping operators to functions\n",
        "    operators_dict = {\n",
        "        '+': lambda x, y: x + y,\n",
        "        '-': lambda x, y: x - y,\n",
        "        '*': lambda x, y: x * y,\n",
        "        '/': lambda x, y: x / y if y != 0 else \"Error: Division by zero\",\n",
        "        '%': lambda x, y: x % y,\n",
        "        '^': lambda x, y: x ** y,\n",
        "    }\n",
        "\n",
        "    # Performing the operation based on the operator using the dictionary\n",
        "    operation_func = operators_dict.get(operator)\n",
        "    if operation_func:\n",
        "        result = operation_func(num1, num2)\n",
        "    else:\n",
        "        result = \"Error: Invalid operator\"\n",
        "\n",
        "    return result\n",
        "\n",
        "# Example usage:\n",
        "input_str = input(\"Input your operation (e.g., 1+2): \")\n",
        "output_result = calculate_operation_with_dict(input_str)\n",
        "print(\"Output:\", output_result)\n"
      ]
    },
    {
      "cell_type": "code",
      "execution_count": 24,
      "metadata": {
        "colab": {
          "base_uri": "https://localhost:8080/"
        },
        "id": "QooPrBs07l7i",
        "outputId": "4ecdab88-f238-4ee3-90fe-01f292f1e27b"
      },
      "outputs": [
        {
          "name": "stdout",
          "output_type": "stream",
          "text": [
            "Resultant Matrix C:\n",
            "[8, 10, 12]\n",
            "[14, 16, 18]\n"
          ]
        }
      ],
      "source": [
        "#Exercise07\n",
        "\n",
        "def mSum(A, B):\n",
        "    # Check if the matrices have the same dimensions\n",
        "    if len(A) != len(B) or len(A[0]) != len(B[0]):\n",
        "        print(\"Matrix dimension error\")\n",
        "        return None\n",
        "\n",
        "    # Initialize the result matrix C with zeros\n",
        "    C = [[0 for _ in range(len(A[0]))] for _ in range(len(A))]\n",
        "\n",
        "    # Calculate the summation of matrices A and B\n",
        "    for i in range(len(A)):\n",
        "        for j in range(len(A[0])):\n",
        "            C[i][j] = A[i][j] + B[i][j]\n",
        "\n",
        "    return C\n",
        "\n",
        "# Example usage:\n",
        "A = [[1, 2, 3],\n",
        "     [4, 5, 6]]\n",
        "B = [[7, 8, 9],\n",
        "     [10, 11, 12]]\n",
        "\n",
        "result = mSum(A, B)\n",
        "\n",
        "if result is not None:\n",
        "    print(\"Resultant Matrix C:\")\n",
        "    for row in result:\n",
        "        print(row)\n"
      ]
    },
    {
      "cell_type": "code",
      "execution_count": 25,
      "metadata": {
        "colab": {
          "base_uri": "https://localhost:8080/"
        },
        "id": "gldQs9aD8D7R",
        "outputId": "3581654f-4bf3-4e83-c776-cfc7f8d5fa71"
      },
      "outputs": [
        {
          "name": "stdout",
          "output_type": "stream",
          "text": [
            "Resultant Matrix C:\n",
            "[19, 22]\n",
            "[43, 50]\n"
          ]
        }
      ],
      "source": [
        "#Exercise08\n",
        "\n",
        "def mProd(A, B):\n",
        "    # Check if the matrices can be multiplied\n",
        "    if len(A[0]) != len(B):\n",
        "        print(\"Matrix dimension error\")\n",
        "        return None\n",
        "\n",
        "    # Initialize the result matrix C with zeros\n",
        "    C = [[0 for _ in range(len(B[0]))] for _ in range(len(A))]\n",
        "\n",
        "    # Calculate the product of matrices A and B\n",
        "    for i in range(len(A)):\n",
        "        for j in range(len(B[0])):\n",
        "            for k in range(len(B)):\n",
        "                C[i][j] += A[i][k] * B[k][j]\n",
        "\n",
        "    return C\n",
        "\n",
        "# Example usage:\n",
        "A = [[1, 2],\n",
        "     [3, 4]]\n",
        "B = [[5, 6],\n",
        "     [7, 8]]\n",
        "\n",
        "result = mProd(A, B)\n",
        "\n",
        "if result is not None:\n",
        "    print(\"Resultant Matrix C:\")\n",
        "    for row in result:\n",
        "        print(row)\n"
      ]
    },
    {
      "cell_type": "code",
      "execution_count": 55,
      "metadata": {
        "colab": {
          "base_uri": "https://localhost:8080/"
        },
        "id": "iVCpPR-v9TIC",
        "outputId": "7737aa6c-08b4-4cc8-833a-1e81237700fd"
      },
      "outputs": [
        {
          "name": "stdout",
          "output_type": "stream",
          "text": [
            "(a) if it sunny, then I go camping\n",
            "(b) it sunny and I not go camping\n",
            "(c) it not sunny, or I go camping\n"
          ]
        }
      ],
      "source": [
        "#Exercise09\n",
        "\n",
        "def ithCombine(p, q):\n",
        "    result = \"if {}, then {}\".format(p, q)\n",
        "    return result\n",
        "\n",
        "def panqCombine(p, q):\n",
        "    result = \"{} and {} not {}\".format(p, q.split()[0], ' '.join(q.split()[1:]))\n",
        "    return result\n",
        "\n",
        "def npoqCombine(p, q):\n",
        "    result = \"{} not {}, or {}\".format(p.split()[0], ' '.join(p.split()[1:]), q)\n",
        "    return result\n",
        "\n",
        "# Example usage:\n",
        "p = \"it sunny\"\n",
        "q = \"I go camping\"\n",
        "\n",
        "result_a = ithCombine(p, q)\n",
        "print(\"(a)\", result_a)\n",
        "\n",
        "result_b = panqCombine(p, q)\n",
        "print(\"(b)\", result_b)\n",
        "\n",
        "result_c = npoqCombine(p, q)\n",
        "print(\"(c)\", result_c)\n",
        "\n"
      ]
    }
  ],
  "metadata": {
    "colab": {
      "provenance": []
    },
    "kernelspec": {
      "display_name": "Python 3",
      "name": "python3"
    },
    "language_info": {
      "codemirror_mode": {
        "name": "ipython",
        "version": 3
      },
      "file_extension": ".py",
      "mimetype": "text/x-python",
      "name": "python",
      "nbconvert_exporter": "python",
      "pygments_lexer": "ipython3",
      "version": "3.12.0"
    }
  },
  "nbformat": 4,
  "nbformat_minor": 0
}
