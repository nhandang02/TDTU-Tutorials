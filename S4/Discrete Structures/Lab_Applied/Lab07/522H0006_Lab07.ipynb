{
  "nbformat": 4,
  "nbformat_minor": 0,
  "metadata": {
    "colab": {
      "provenance": []
    },
    "kernelspec": {
      "name": "python3",
      "display_name": "Python 3"
    },
    "language_info": {
      "name": "python"
    }
  },
  "cells": [
    {
      "cell_type": "code",
      "execution_count": 3,
      "metadata": {
        "colab": {
          "base_uri": "https://localhost:8080/"
        },
        "id": "_VLA3aXZEjAx",
        "outputId": "e92b13ce-6add-4d4a-d2d7-17c791e0fa25"
      },
      "outputs": [
        {
          "output_type": "stream",
          "name": "stdout",
          "text": [
            "Number of thieves sent on day 40 is: 820\n",
            "Number of days until no more thieves can be sent: 8\n"
          ]
        }
      ],
      "source": [
        "#Exercise01\n",
        "\n",
        "def thieves_sent_on_day(day):\n",
        "    return sum(range(1, day + 1))\n",
        "\n",
        "def days_until_no_thieves(number_of_thieves):\n",
        "    day = 1\n",
        "    while True:\n",
        "        if thieves_sent_on_day(day) > number_of_thieves:\n",
        "            return day - 1\n",
        "        day += 1\n",
        "\n",
        "number_of_thieves = 40\n",
        "print(\"Number of thieves sent on day\", number_of_thieves, \"is:\", thieves_sent_on_day(number_of_thieves))\n",
        "print(\"Number of days until no more thieves can be sent:\", days_until_no_thieves(number_of_thieves))\n"
      ]
    },
    {
      "cell_type": "code",
      "source": [
        "#Exercise02\n",
        "\n",
        "def richest(X):\n",
        "    if len(X) == 1:\n",
        "        return X[0]\n",
        "    else:\n",
        "        current_richest = X[0]\n",
        "        previous_richest = richest(X[1:])\n",
        "        return max(current_richest, previous_richest)\n",
        "\n",
        "X = [5, 10, 15, 20, 25]\n",
        "print(\"The richest man has\", richest(X), \"gold coins.\")"
      ],
      "metadata": {
        "colab": {
          "base_uri": "https://localhost:8080/"
        },
        "id": "508og6WpGi5C",
        "outputId": "46b585b9-a58e-405c-8f7e-7bc70a0ba415"
      },
      "execution_count": 5,
      "outputs": [
        {
          "output_type": "stream",
          "name": "stdout",
          "text": [
            "The richest man has 25 gold coins.\n"
          ]
        }
      ]
    },
    {
      "cell_type": "code",
      "source": [
        "#Exercise03\n",
        "\n",
        "def binomial_coefficient(n, k):\n",
        "    if k == 0 or k == n:\n",
        "        return 1\n",
        "    else:\n",
        "        return binomial_coefficient(n-1, k) + binomial_coefficient(n-1, k-1)\n",
        "\n",
        "def find_k_closest_to_1000(n):\n",
        "    closest_k = 0\n",
        "    min_diff = float('inf')\n",
        "    for k in range(n+1):\n",
        "        ways = binomial_coefficient(n, k)\n",
        "        diff = abs(1000 - ways)\n",
        "        if diff < min_diff:\n",
        "            min_diff = diff\n",
        "            closest_k = k\n",
        "    return closest_k\n",
        "\n",
        "n = 10\n",
        "closest_k = find_k_closest_to_1000(n)\n",
        "print(\"The value of k closest to 1000 is:\", closest_k)\n"
      ],
      "metadata": {
        "colab": {
          "base_uri": "https://localhost:8080/"
        },
        "id": "_6cQZhjHGxK4",
        "outputId": "3f7c4103-ad1f-46e0-c9a2-41b9f74d53c1"
      },
      "execution_count": 6,
      "outputs": [
        {
          "output_type": "stream",
          "name": "stdout",
          "text": [
            "The value of k closest to 1000 is: 5\n"
          ]
        }
      ]
    },
    {
      "cell_type": "code",
      "source": [
        "#Exercise04\n",
        "\n",
        "def ways_to_choose_P(n, k):\n",
        "    if k == 0 or k == n:\n",
        "        return 1\n",
        "    else:\n",
        "        return k * ways_to_choose_P(n-1, k-1) + ways_to_choose_P(n-1, k)\n",
        "\n",
        "def find_k_closest_to_10000(n):\n",
        "    closest_k = 0\n",
        "    min_diff = float('inf')\n",
        "    for k in range(n+1):\n",
        "        ways_P = ways_to_choose_P(n, k)\n",
        "        diff = abs(10000 - ways_P)\n",
        "        if diff < min_diff:\n",
        "            min_diff = diff\n",
        "            closest_k = k\n",
        "    return closest_k\n",
        "\n",
        "print(\"The value of k closest to 10000 is:\", find_k_closest_to_10000(5))"
      ],
      "metadata": {
        "colab": {
          "base_uri": "https://localhost:8080/"
        },
        "id": "hY1zInTSH5UO",
        "outputId": "344ba0df-1edd-40b1-d3f2-387425af14b0"
      },
      "execution_count": 8,
      "outputs": [
        {
          "output_type": "stream",
          "name": "stdout",
          "text": [
            "The value of k closest to 10000 is: 4\n"
          ]
        }
      ]
    },
    {
      "cell_type": "code",
      "source": [
        "#Exercise05\n",
        "\n",
        "def total_characters(nights):\n",
        "    if nights == 0:\n",
        "        return 0\n",
        "    else:\n",
        "        characters_in_current_story = 2 ** (nights - 1)\n",
        "        total_characters_up_to_current_night = (characters_in_current_story + total_characters(nights - 1))\n",
        "        return total_characters_up_to_current_night\n",
        "\n",
        "print(\"Total number of characters in Scheherazade's stories:\", total_characters(101))\n"
      ],
      "metadata": {
        "colab": {
          "base_uri": "https://localhost:8080/"
        },
        "id": "ndNTQadxIH1v",
        "outputId": "d138ea2d-8d6e-4e01-f04e-11703951c3b9"
      },
      "execution_count": 9,
      "outputs": [
        {
          "output_type": "stream",
          "name": "stdout",
          "text": [
            "Total number of characters in Scheherazade's stories: 2535301200456458802993406410751\n"
          ]
        }
      ]
    },
    {
      "cell_type": "code",
      "source": [
        "#Exercise06\n",
        "\n",
        "def fibonacci(n):\n",
        "    if n < 2:\n",
        "        return 1\n",
        "    else:\n",
        "        return fibonacci(n-1) + fibonacci(n-2)\n",
        "\n",
        "print(\"Fibonacci(0):\", fibonacci(0))\n",
        "print(\"Fibonacci(1):\", fibonacci(1))\n",
        "print(\"Fibonacci(2):\", fibonacci(2))\n",
        "print(\"Fibonacci(3):\", fibonacci(3))\n",
        "print(\"Fibonacci(4):\", fibonacci(4))"
      ],
      "metadata": {
        "colab": {
          "base_uri": "https://localhost:8080/"
        },
        "id": "5VjDQs8GIzFF",
        "outputId": "585901d7-1e76-4fbc-ff1f-9b56ac4618b7"
      },
      "execution_count": 12,
      "outputs": [
        {
          "output_type": "stream",
          "name": "stdout",
          "text": [
            "Fibonacci(0): 1\n",
            "Fibonacci(1): 1\n",
            "Fibonacci(2): 2\n",
            "Fibonacci(3): 3\n",
            "Fibonacci(4): 5\n"
          ]
        }
      ]
    },
    {
      "cell_type": "code",
      "source": [
        "#Exercise07\n",
        "\n",
        "def towerOfHanoi(A, B, C, n):\n",
        "    if n == 1:\n",
        "        disk = A.pop()\n",
        "        C.append(disk)\n",
        "        print(\"Move disk\", disk, \"from\", A[0], \"to\", C[0])\n",
        "    else:\n",
        "        towerOfHanoi(A, C, B, n-1)\n",
        "        disk = A.pop()\n",
        "        C.append(disk)\n",
        "        print(\"Move disk\", disk, \"from\", A[0], \"to\", C[0])\n",
        "        towerOfHanoi(B, A, C, n-1)\n",
        "\n",
        "n = 3\n",
        "A = ['A', 3, 2, 1]\n",
        "B = ['B']\n",
        "C = ['C']\n",
        "\n",
        "towerOfHanoi(A, B, C, n)"
      ],
      "metadata": {
        "colab": {
          "base_uri": "https://localhost:8080/"
        },
        "id": "QkyQqPCRJJG8",
        "outputId": "a5465966-91c4-4811-9cb5-1d817a415b48"
      },
      "execution_count": 13,
      "outputs": [
        {
          "output_type": "stream",
          "name": "stdout",
          "text": [
            "Move disk 1 from A to C\n",
            "Move disk 2 from A to B\n",
            "Move disk 1 from C to B\n",
            "Move disk 3 from A to C\n",
            "Move disk 1 from B to A\n",
            "Move disk 2 from B to C\n",
            "Move disk 1 from A to C\n"
          ]
        }
      ]
    }
  ]
}