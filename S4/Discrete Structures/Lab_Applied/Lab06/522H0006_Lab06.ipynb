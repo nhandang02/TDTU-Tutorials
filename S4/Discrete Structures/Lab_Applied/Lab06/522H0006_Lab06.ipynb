{
  "nbformat": 4,
  "nbformat_minor": 0,
  "metadata": {
    "colab": {
      "provenance": []
    },
    "kernelspec": {
      "name": "python3",
      "display_name": "Python 3"
    },
    "language_info": {
      "name": "python"
    }
  },
  "cells": [
    {
      "cell_type": "code",
      "execution_count": null,
      "metadata": {
        "colab": {
          "base_uri": "https://localhost:8080/"
        },
        "id": "a8UD2m8LFrzm",
        "outputId": "55b1fca9-572d-4d3b-c84d-f0f0a89f1623"
      },
      "outputs": [
        {
          "output_type": "stream",
          "name": "stdout",
          "text": [
            "3\n"
          ]
        }
      ],
      "source": [
        "#Exercise01\n",
        "def isPrime(x):\n",
        "  if x < 2:\n",
        "    return False\n",
        "  for i in range(2, int(x ** 0.5) + 1):\n",
        "    if x % i == 0:\n",
        "      return False\n",
        "  return True\n",
        "def nextPrime(n):\n",
        "    next_num = n + 1\n",
        "    while True:\n",
        "        if isPrime(next_num):\n",
        "            return next_num\n",
        "        next_num += 1\n",
        "\n",
        "print(nextPrime(2))\n",
        "print(nextPrime(3))"
      ]
    },
    {
      "cell_type": "code",
      "source": [
        "#Exercise02\n",
        "def primeFact(p):\n",
        "    prime_factors = []\n",
        "    while p % 2 == 0:\n",
        "        prime_factors.append(2)\n",
        "        p //= 2\n",
        "\n",
        "    for i in range(3, int(p**0.5) + 1, 2):\n",
        "        while p % i == 0:\n",
        "            prime_factors.append(i)\n",
        "            p //= i\n",
        "\n",
        "    if p > 2:\n",
        "        prime_factors.append(p)\n",
        "\n",
        "    return prime_factors\n",
        "print(primeFact(60))\n",
        "print(primeFact(100))"
      ],
      "metadata": {
        "colab": {
          "base_uri": "https://localhost:8080/"
        },
        "id": "kVYIbWSjKfzQ",
        "outputId": "f31c8137-fc8f-430f-8e47-856dc380d34d"
      },
      "execution_count": null,
      "outputs": [
        {
          "output_type": "stream",
          "name": "stdout",
          "text": [
            "[2, 2, 3, 5]\n",
            "[2, 2, 5, 5]\n"
          ]
        }
      ]
    },
    {
      "cell_type": "code",
      "source": [
        "#Exercise03\n",
        "def printPrime(N):\n",
        "    # Create a boolean list to store prime status\n",
        "    prime = [True] * (N + 1)\n",
        "    prime[0] = prime[1] = False\n",
        "\n",
        "    # Use the Sieve of Eratosthenes algorithm to mark non-prime numbers\n",
        "    for i in range(2, int(N**0.5) + 1):\n",
        "        if prime[i]:\n",
        "            for j in range(i * i, N + 1, i):\n",
        "                prime[j] = False\n",
        "\n",
        "    # Print all prime numbers\n",
        "    for i in range(2, N):\n",
        "        if prime[i]:\n",
        "            print(i, end=' ')\n",
        "print(printPrime(20))"
      ],
      "metadata": {
        "colab": {
          "base_uri": "https://localhost:8080/"
        },
        "id": "h6EqWj7jQbvk",
        "outputId": "ffaa4308-8699-4e0d-cd8b-00016fa6fb90"
      },
      "execution_count": null,
      "outputs": [
        {
          "output_type": "stream",
          "name": "stdout",
          "text": [
            "2 3 5 7 11 13 17 19 None\n"
          ]
        }
      ]
    },
    {
      "cell_type": "code",
      "source": [
        "#Exercise04\n",
        "def algorithm(n):\n",
        "    if n < 2:\n",
        "        return []\n",
        "\n",
        "    O = [2]\n",
        "    for i in range(3, n+1, 2):\n",
        "        flag = True\n",
        "\n",
        "        for j in O:\n",
        "            if i % j == 0:\n",
        "                flag = False\n",
        "                break\n",
        "\n",
        "        if flag:\n",
        "            O.append(i)\n",
        "\n",
        "    return O\n",
        "print(algorithm(10))\n",
        "print(algorithm(20))"
      ],
      "metadata": {
        "colab": {
          "base_uri": "https://localhost:8080/"
        },
        "id": "x3EjHE5-UQCl",
        "outputId": "d6570f83-b9b9-4461-8416-fab840098d00"
      },
      "execution_count": null,
      "outputs": [
        {
          "output_type": "stream",
          "name": "stdout",
          "text": [
            "[2, 3, 5, 7]\n",
            "[2, 3, 5, 7, 11, 13, 17, 19]\n"
          ]
        }
      ]
    },
    {
      "cell_type": "code",
      "source": [
        "#Exercise05\n",
        "def gcd(a, b):\n",
        "    while b != 0:\n",
        "        a, b = b, a % b\n",
        "    return a\n",
        "print(gcd(24, 16))\n",
        "print(gcd(10, 15))"
      ],
      "metadata": {
        "colab": {
          "base_uri": "https://localhost:8080/"
        },
        "id": "lxoyCydcZCoD",
        "outputId": "9e658930-54b8-4036-8307-2c311f035958"
      },
      "execution_count": null,
      "outputs": [
        {
          "output_type": "stream",
          "name": "stdout",
          "text": [
            "8\n",
            "5\n"
          ]
        }
      ]
    },
    {
      "cell_type": "code",
      "source": [
        "#Exercise06\n",
        "def lcm(a, b):\n",
        "    return (a * b) // gcd(a, b)\n",
        "\n",
        "def gcd(a, b):\n",
        "    while b != 0:\n",
        "        a, b = b, a % b\n",
        "    return a\n",
        "print(lcm(4, 6))\n",
        "print(lcm(15, 20))\n",
        "print(lcm(7, 9))"
      ],
      "metadata": {
        "colab": {
          "base_uri": "https://localhost:8080/"
        },
        "id": "4-Y6GMesZZW4",
        "outputId": "a66259d4-35cf-4e60-b6f6-c292e4e300ef"
      },
      "execution_count": null,
      "outputs": [
        {
          "output_type": "stream",
          "name": "stdout",
          "text": [
            "12\n",
            "60\n",
            "63\n"
          ]
        }
      ]
    },
    {
      "cell_type": "code",
      "source": [
        "#Exercise07\n",
        "def decimal_to_binary(n):\n",
        "    binary = \"\"\n",
        "    while n > 0:\n",
        "        remainder = n % 2\n",
        "        binary = str(remainder) + binary\n",
        "        n //= 2\n",
        "    return binary\n",
        "\n",
        "print(decimal_to_binary(15))\n",
        "print(decimal_to_binary(2))"
      ],
      "metadata": {
        "colab": {
          "base_uri": "https://localhost:8080/"
        },
        "id": "BbRZY6H4B_0R",
        "outputId": "0b571d65-aa01-419f-8517-98ed23c4dd79"
      },
      "execution_count": 4,
      "outputs": [
        {
          "output_type": "stream",
          "name": "stdout",
          "text": [
            "1111\n",
            "10\n"
          ]
        }
      ]
    },
    {
      "cell_type": "code",
      "source": [
        "#Exercise08\n",
        "def decimal_fraction_to_binary(n, precision=10):\n",
        "    binary = \"0.\"\n",
        "    while n > 0 and precision > 0:\n",
        "        n *= 2\n",
        "        if n >= 1:\n",
        "            binary += \"1\"\n",
        "            n -= 1\n",
        "        else:\n",
        "            binary += \"0\"\n",
        "        precision -= 1\n",
        "    return binary\n",
        "print(decimal_fraction_to_binary(0.15))\n",
        "print(decimal_fraction_to_binary(0.2))"
      ],
      "metadata": {
        "colab": {
          "base_uri": "https://localhost:8080/"
        },
        "id": "FAyDhxJpCTEO",
        "outputId": "dab1b5ba-b306-420e-db05-3c846c9a0472"
      },
      "execution_count": 6,
      "outputs": [
        {
          "output_type": "stream",
          "name": "stdout",
          "text": [
            "0.0010011001\n",
            "0.0011001100\n"
          ]
        }
      ]
    },
    {
      "cell_type": "code",
      "source": [
        "#Exercise09\n",
        "def decimal_to_hexadecimal(n):\n",
        "    hex_digits = \"0123456789ABCDEF\"\n",
        "    hexadecimal = \"\"\n",
        "    while n > 0:\n",
        "        remainder = n % 16\n",
        "        hexadecimal = hex_digits[remainder] + hexadecimal\n",
        "        n //= 16\n",
        "    return hexadecimal\n",
        "\n",
        "print(decimal_to_hexadecimal(152))"
      ],
      "metadata": {
        "colab": {
          "base_uri": "https://localhost:8080/"
        },
        "id": "OjXWQoajChPp",
        "outputId": "02b2f0a6-1cc3-47d2-bef5-82e1cebbd77f"
      },
      "execution_count": 7,
      "outputs": [
        {
          "output_type": "stream",
          "name": "stdout",
          "text": [
            "98\n"
          ]
        }
      ]
    },
    {
      "cell_type": "code",
      "source": [
        "#Exercise10\n",
        "def convert_to_decimal(a, base):\n",
        "    decimal = 0\n",
        "    power = len(a) - 1\n",
        "    for digit in a:\n",
        "        decimal += digit * (base ** power)\n",
        "        power -= 1\n",
        "    return decimal\n",
        "\n",
        "def convert_to_base(decimal, base):\n",
        "    result = []\n",
        "    while decimal > 0:\n",
        "        remainder = decimal % base\n",
        "        result.insert(0, remainder)\n",
        "        decimal //= base\n",
        "    return result\n",
        "\n",
        "def convertbase(a, base1, base2):\n",
        "    decimal = convert_to_decimal(a, base1)\n",
        "    converted = convert_to_base(decimal, base2)\n",
        "    return converted\n",
        "\n",
        "print(convertbase([1, 1, 1], 10, 16))"
      ],
      "metadata": {
        "colab": {
          "base_uri": "https://localhost:8080/"
        },
        "id": "8LcZ9z7aCm84",
        "outputId": "aa69b24f-5d2b-4878-d9b6-892babd04e80"
      },
      "execution_count": 8,
      "outputs": [
        {
          "output_type": "stream",
          "name": "stdout",
          "text": [
            "[6, 15]\n"
          ]
        }
      ]
    }
  ]
}