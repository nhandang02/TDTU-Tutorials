{
  "nbformat": 4,
  "nbformat_minor": 0,
  "metadata": {
    "colab": {
      "provenance": []
    },
    "kernelspec": {
      "name": "python3",
      "display_name": "Python 3"
    },
    "language_info": {
      "name": "python"
    }
  },
  "cells": [
    {
      "cell_type": "code",
      "execution_count": 9,
      "metadata": {
        "colab": {
          "base_uri": "https://localhost:8080/"
        },
        "id": "ZFSY8a33DDJV",
        "outputId": "803b03d2-8308-4062-cdd5-d70ef05b31fd"
      },
      "outputs": [
        {
          "output_type": "stream",
          "name": "stdout",
          "text": [
            "{'The Emperor’s New Clothes', 'The Little Mermaid', 'The Little Match Girl', 'The Snow Queen'}\n"
          ]
        }
      ],
      "source": [
        "#Exercise01\n",
        "\n",
        "Andersen = {\"The Emperor’s New Clothes\", \"The Little Mermaid\",\\\n",
        "            \"The Little Match Girl\", \"The Snow Queen\"}\n",
        "print(Andersen)"
      ]
    },
    {
      "cell_type": "code",
      "source": [
        "#Exercise02\n",
        "\n",
        "Shakespeare = {\"Romeo and Juliet\", \"Hamlet\", \"King Lear\", \"Macbeth\",\\\n",
        "               \"A Midsummer Night’s Dream\", \"A Comedy of Errors\"}\n",
        "print(Shakespeare)"
      ],
      "metadata": {
        "colab": {
          "base_uri": "https://localhost:8080/"
        },
        "id": "ccEoDrnADPyr",
        "outputId": "25b53e9e-2068-4a63-912b-477b104fca6b"
      },
      "execution_count": 10,
      "outputs": [
        {
          "output_type": "stream",
          "name": "stdout",
          "text": [
            "{'A Comedy of Errors', 'King Lear', 'A Midsummer Night’s Dream', 'Hamlet', 'Romeo and Juliet', 'Macbeth'}\n"
          ]
        }
      ]
    },
    {
      "cell_type": "code",
      "source": [
        "#Exercise03\n",
        "\n",
        "# Andersen's works\n",
        "Andersen = {\"The Emperor’s New Clothes\", \"The Little Mermaid\",\\\n",
        "            \"The Little Match Girl\", \"The Snow Queen\"}\n",
        "\n",
        "# Shakespeare's works\n",
        "Shakespeare = {\"Romeo and Juliet\", \"Hamlet\", \"King Lear\", \"Macbeth\",\\\n",
        "               \"A Midsummer Night’s Dream\", \"A Comedy of Errors\"}\n",
        "\n",
        "# Tragedies\n",
        "Tragedy = {\"Medea\", \"Octavia\", \"Oedipus\", \"Ur-Hamlet\"}\n",
        "Tragedy.update(Shakespeare)\n",
        "\n",
        "# Comedies\n",
        "Comedy = {\"The Three Musketeer\", \"The Clouds\"}\n",
        "Comedy.update(Andersen)\n",
        "\n",
        "# Uncategorised works\n",
        "Uncategory = {\"Don Quixote\", \"Rapunzel\", \"Cinderella\"}\n",
        "\n",
        "print(\"Tragedy:\", Tragedy)\n",
        "print(\"Comedy:\", Comedy)\n",
        "print(\"Uncategory:\", Uncategory)\n"
      ],
      "metadata": {
        "colab": {
          "base_uri": "https://localhost:8080/"
        },
        "id": "rc4BgWRvDXNI",
        "outputId": "f925b0f7-496f-4f73-c7fc-18c744b944e5"
      },
      "execution_count": 11,
      "outputs": [
        {
          "output_type": "stream",
          "name": "stdout",
          "text": [
            "Tragedy: {'A Midsummer Night’s Dream', 'Medea', 'Oedipus', 'Romeo and Juliet', 'A Comedy of Errors', 'King Lear', 'Hamlet', 'Octavia', 'Ur-Hamlet', 'Macbeth'}\n",
            "Comedy: {'The Emperor’s New Clothes', 'The Clouds', 'The Little Match Girl', 'The Three Musketeer', 'The Little Mermaid', 'The Snow Queen'}\n",
            "Uncategory: {'Cinderella', 'Rapunzel', 'Don Quixote'}\n"
          ]
        }
      ]
    },
    {
      "cell_type": "code",
      "source": [
        "#Exercise04\n",
        "\n",
        "Shakespeare_Tragedy = Shakespeare.difference(Comedy)\n",
        "print(\"Shakespeare_Tragedy:\", Shakespeare_Tragedy)"
      ],
      "metadata": {
        "colab": {
          "base_uri": "https://localhost:8080/"
        },
        "id": "JW39YfSDDbwO",
        "outputId": "7f2f545e-b554-4d07-c0ab-b09b5178023c"
      },
      "execution_count": 12,
      "outputs": [
        {
          "output_type": "stream",
          "name": "stdout",
          "text": [
            "Shakespeare_Tragedy: {'A Midsummer Night’s Dream', 'Romeo and Juliet', 'A Comedy of Errors', 'King Lear', 'Hamlet', 'Macbeth'}\n"
          ]
        }
      ]
    },
    {
      "cell_type": "code",
      "source": [
        "#Exercise05\n",
        "\n",
        "set1 = {\"story1\", \"story2\", \"story3\"}\n",
        "set2 = {\"story2\", \"story4\", \"story5\"}\n",
        "\n",
        "Andersen_Comedy = set1.intersection(set2)\n",
        "\n",
        "print(Andersen_Comedy)"
      ],
      "metadata": {
        "colab": {
          "base_uri": "https://localhost:8080/"
        },
        "id": "K_o-C_2SDfSN",
        "outputId": "a59db909-dc20-49b9-f90a-6ee02cb7d135"
      },
      "execution_count": 14,
      "outputs": [
        {
          "output_type": "stream",
          "name": "stdout",
          "text": [
            "{'story2'}\n"
          ]
        }
      ]
    },
    {
      "cell_type": "code",
      "source": [
        "#Exercise06\n",
        "\n",
        "Andersen_Comedy = {\"story1\", \"story2\"}\n",
        "Shakespeare_Tragedy = {\"story3\", \"story4\"}\n",
        "Shakespeare = {\"story5\", \"story6\"}\n",
        "Andersen = {\"story7\", \"story8\"}\n",
        "Tragedy = {\"story9\", \"story10\"}\n",
        "Comedy = {\"story11\", \"story12\"}\n",
        "Uncategory = {\"story13\", \"story14\"}\n",
        "\n",
        "print(\"Andersen_Comedy is subset of Shakespeare:\", Andersen_Comedy.issubset(Shakespeare))\n",
        "print(\"Andersen_Comedy is superset of Shakespeare:\", Andersen_Comedy.issuperset(Shakespeare))\n",
        "print(\"Andersen_Comedy is disjoint with Shakespeare:\", Andersen_Comedy.isdisjoint(Shakespeare))\n",
        "\n",
        "print()\n",
        "\n",
        "print(\"Andersen_Comedy is subset of Andersen:\", Andersen_Comedy.issubset(Andersen))\n",
        "print(\"Andersen_Comedy is superset of Andersen:\", Andersen_Comedy.issuperset(Andersen))\n",
        "print(\"Andersen_Comedy is disjoint with Andersen:\", Andersen_Comedy.isdisjoint(Andersen))\n",
        "\n",
        "print()\n",
        "\n",
        "print(\"Andersen_Comedy is subset of Tragedy:\", Andersen_Comedy.issubset(Tragedy))\n",
        "print(\"Andersen_Comedy is superset of Tragedy:\", Andersen_Comedy.issuperset(Tragedy))\n",
        "print(\"Andersen_Comedy is disjoint with Tragedy:\", Andersen_Comedy.isdisjoint(Tragedy))\n",
        "\n",
        "print()\n",
        "\n",
        "print(\"Andersen_Comedy is subset of Comedy:\", Andersen_Comedy.issubset(Comedy))\n",
        "print(\"Andersen_Comedy is superset of Comedy:\", Andersen_Comedy.issuperset(Comedy))\n",
        "print(\"Andersen_Comedy is disjoint with Comedy:\", Andersen_Comedy.isdisjoint(Comedy))\n",
        "\n",
        "print()\n",
        "\n",
        "print(\"Andersen_Comedy is subset of Uncategory:\", Andersen_Comedy.issubset(Uncategory))\n",
        "print(\"Andersen_Comedy is superset of Uncategory:\", Andersen_Comedy.issuperset(Uncategory))\n",
        "print(\"Andersen_Comedy is disjoint with Uncategory:\", Andersen_Comedy.isdisjoint(Uncategory))\n",
        "\n",
        "print()\n",
        "\n",
        "print(\"Shakespeare_Tragedy is subset of Shakespeare:\", Shakespeare_Tragedy.issubset(Shakespeare))\n",
        "print(\"Shakespeare_Tragedy is superset of Shakespeare:\", Shakespeare_Tragedy.issuperset(Shakespeare))\n",
        "print(\"Shakespeare_Tragedy is disjoint with Shakespeare:\", Shakespeare_Tragedy.isdisjoint(Shakespeare))\n",
        "\n",
        "print()\n",
        "\n",
        "print(\"Shakespeare_Tragedy is subset of Andersen:\", Shakespeare_Tragedy.issubset(Andersen))\n",
        "print(\"Shakespeare_Tragedy is superset of Andersen:\", Shakespeare_Tragedy.issuperset(Andersen))\n",
        "print(\"Shakespeare_Tragedy is disjoint with Andersen:\", Shakespeare_Tragedy.isdisjoint(Andersen))\n",
        "\n",
        "print()\n",
        "\n",
        "print(\"Shakespeare_Tragedy is subset of Tragedy:\", Shakespeare_Tragedy.issubset(Tragedy))\n",
        "print(\"Shakespeare_Tragedy is superset of Tragedy:\", Shakespeare_Tragedy.issuperset(Tragedy))\n",
        "print(\"Shakespeare_Tragedy is disjoint with Tragedy:\", Shakespeare_Tragedy.isdisjoint(Tragedy))\n",
        "\n",
        "print()\n",
        "\n",
        "print(\"Shakespeare_Tragedy is subset of Comedy:\", Shakespeare_Tragedy.issubset(Comedy))\n",
        "print(\"Shakespeare_Tragedy is superset of Comedy:\", Shakespeare_Tragedy.issuperset(Comedy))\n",
        "print(\"Shakespeare_Tragedy is disjoint with Comedy:\", Shakespeare_Tragedy.isdisjoint(Comedy))\n",
        "\n",
        "print()\n",
        "\n",
        "print(\"Shakespeare_Tragedy is subset of Uncategory:\", Shakespeare_Tragedy.issubset(Uncategory))\n",
        "print(\"Shakespeare_Tragedy is superset of Uncategory:\", Shakespeare_Tragedy.issuperset(Uncategory))\n",
        "print(\"Shakespeare_Tragedy is disjoint with Uncategory:\", Shakespeare_Tragedy.isdisjoint(Uncategory))\n",
        "\n",
        "print()"
      ],
      "metadata": {
        "colab": {
          "base_uri": "https://localhost:8080/"
        },
        "id": "BB09lhvTDpH1",
        "outputId": "e3f6d25b-575a-4f70-bc8c-a7caae2eb4f3"
      },
      "execution_count": 15,
      "outputs": [
        {
          "output_type": "stream",
          "name": "stdout",
          "text": [
            "Andersen_Comedy is subset of Shakespeare: False\n",
            "Andersen_Comedy is superset of Shakespeare: False\n",
            "Andersen_Comedy is disjoint with Shakespeare: True\n",
            "\n",
            "Andersen_Comedy is subset of Andersen: False\n",
            "Andersen_Comedy is superset of Andersen: False\n",
            "Andersen_Comedy is disjoint with Andersen: True\n",
            "\n",
            "Andersen_Comedy is subset of Tragedy: False\n",
            "Andersen_Comedy is superset of Tragedy: False\n",
            "Andersen_Comedy is disjoint with Tragedy: True\n",
            "\n",
            "Andersen_Comedy is subset of Comedy: False\n",
            "Andersen_Comedy is superset of Comedy: False\n",
            "Andersen_Comedy is disjoint with Comedy: True\n",
            "\n",
            "Andersen_Comedy is subset of Uncategory: False\n",
            "Andersen_Comedy is superset of Uncategory: False\n",
            "Andersen_Comedy is disjoint with Uncategory: True\n",
            "\n",
            "Shakespeare_Tragedy is subset of Shakespeare: False\n",
            "Shakespeare_Tragedy is superset of Shakespeare: False\n",
            "Shakespeare_Tragedy is disjoint with Shakespeare: True\n",
            "\n",
            "Shakespeare_Tragedy is subset of Andersen: False\n",
            "Shakespeare_Tragedy is superset of Andersen: False\n",
            "Shakespeare_Tragedy is disjoint with Andersen: True\n",
            "\n",
            "Shakespeare_Tragedy is subset of Tragedy: False\n",
            "Shakespeare_Tragedy is superset of Tragedy: False\n",
            "Shakespeare_Tragedy is disjoint with Tragedy: True\n",
            "\n",
            "Shakespeare_Tragedy is subset of Comedy: False\n",
            "Shakespeare_Tragedy is superset of Comedy: False\n",
            "Shakespeare_Tragedy is disjoint with Comedy: True\n",
            "\n",
            "Shakespeare_Tragedy is subset of Uncategory: False\n",
            "Shakespeare_Tragedy is superset of Uncategory: False\n",
            "Shakespeare_Tragedy is disjoint with Uncategory: True\n",
            "\n"
          ]
        }
      ]
    },
    {
      "cell_type": "code",
      "source": [
        "#Exercise07\n",
        "\n",
        "Andersen_Comedy = {\"story1\", \"story2\"}\n",
        "Shakespeare_Tragedy = {\"story3\", \"story4\"}\n",
        "Shakespeare = {\"story5\", \"story6\"}\n",
        "Andersen = {\"story7\", \"story8\"}\n",
        "Tragedy = {\"story9\", \"story10\"}\n",
        "Comedy = {\"story11\", \"story12\"}\n",
        "Uncategory = {\"story13\", \"story14\"}\n",
        "\n",
        "Work = Andersen_Comedy.union(Shakespeare_Tragedy, Shakespeare, Andersen, Tragedy, Comedy, Uncategory)\n",
        "\n",
        "print(Work)"
      ],
      "metadata": {
        "colab": {
          "base_uri": "https://localhost:8080/"
        },
        "id": "ekDoRhmvDwBx",
        "outputId": "9a5afd63-2c8a-42ac-8e60-3118a5fda21f"
      },
      "execution_count": 17,
      "outputs": [
        {
          "output_type": "stream",
          "name": "stdout",
          "text": [
            "{'story1', 'story7', 'story6', 'story4', 'story11', 'story5', 'story13', 'story2', 'story9', 'story14', 'story3', 'story12', 'story10', 'story8'}\n"
          ]
        }
      ]
    },
    {
      "cell_type": "code",
      "source": [
        "#Exercise08\n",
        "\n",
        "Author = {\"Shakespeare\", \"Andersen\", \"Homer\", \"Unknown\"}\n",
        "\n",
        "print(Author)"
      ],
      "metadata": {
        "colab": {
          "base_uri": "https://localhost:8080/"
        },
        "id": "xpHQE_ggD1ET",
        "outputId": "3b48bcf6-ae14-46ae-fc0c-dc8339cb8e41"
      },
      "execution_count": 19,
      "outputs": [
        {
          "output_type": "stream",
          "name": "stdout",
          "text": [
            "{'Andersen', 'Homer', 'Shakespeare', 'Unknown'}\n"
          ]
        }
      ]
    },
    {
      "cell_type": "code",
      "source": [
        "#Exercise09\n",
        "\n",
        "Author_Of = {\n",
        "    'Hamlet': 'Shakespeare',\n",
        "    'The Little Mermaid': 'Andersen',\n",
        "    'The Iliad': 'Homer',\n",
        "}\n",
        "\n",
        "print(Author_Of['The Little Mermaid'])"
      ],
      "metadata": {
        "colab": {
          "base_uri": "https://localhost:8080/"
        },
        "id": "_i91M5yTD4yC",
        "outputId": "7ea7f488-5b2a-4038-86ce-bb752fd25d73"
      },
      "execution_count": 22,
      "outputs": [
        {
          "output_type": "stream",
          "name": "stdout",
          "text": [
            "Andersen\n"
          ]
        }
      ]
    },
    {
      "cell_type": "code",
      "source": [
        "#Exercise010\n",
        "\n",
        "Author_Of = {\n",
        "    'Hamlet': 'Shakespeare',\n",
        "    'The Little Mermaid': 'Andersen',\n",
        "    'The Iliad': 'Homer',\n",
        "}\n",
        "\n",
        "Writen_By = {}\n",
        "for work, author in Author_Of.items():\n",
        "    if author not in Writen_By:\n",
        "        Writen_By[author] = [work]\n",
        "    else:\n",
        "        Writen_By[author].append(work)\n",
        "print(Writen_By['Shakespeare'])"
      ],
      "metadata": {
        "colab": {
          "base_uri": "https://localhost:8080/"
        },
        "id": "1K1jZlTkEAP4",
        "outputId": "342d1652-543b-4531-d335-d3b58cefb848"
      },
      "execution_count": 24,
      "outputs": [
        {
          "output_type": "stream",
          "name": "stdout",
          "text": [
            "['Hamlet']\n"
          ]
        }
      ]
    },
    {
      "cell_type": "code",
      "source": [
        "#Exercise011\n",
        "\n",
        "Author_Of = {\n",
        "    'Hamlet': 'Shakespeare',\n",
        "    'The Little Mermaid': 'Andersen',\n",
        "    'The Iliad': 'Homer',\n",
        "}\n",
        "\n",
        "Work_Count = {work: 0 for work in Author_Of.keys()}\n",
        "\n",
        "list_of_sets = [\n",
        "    {'Hamlet', 'The Little Mermaid'},\n",
        "    {'The Iliad', 'Hamlet'},\n",
        "]\n",
        "\n",
        "for set_of_works in list_of_sets:\n",
        "    for work in set_of_works:\n",
        "        if work in Work_Count:\n",
        "            Work_Count[work] += 1\n",
        "print(Work_Count)"
      ],
      "metadata": {
        "colab": {
          "base_uri": "https://localhost:8080/"
        },
        "id": "i6gbmsoeEFIz",
        "outputId": "5d6e59cf-2a5d-444f-8727-ac46d4453abd"
      },
      "execution_count": 26,
      "outputs": [
        {
          "output_type": "stream",
          "name": "stdout",
          "text": [
            "{'Hamlet': 2, 'The Little Mermaid': 1, 'The Iliad': 1}\n"
          ]
        }
      ]
    },
    {
      "cell_type": "code",
      "source": [
        "#Exercise012\n",
        "\n",
        "text = \"\"\"\n",
        "In the span of humanity, writing are what enabled humans to pass on many\n",
        "knowledge to their next generation. Via writing, the art of telling stories; both\n",
        "fictional and real; evolved and became a huge part of humanity culture. Among\n",
        "them, there are stories that transcend languages, culture and history to reach\n",
        "people far away both in spaces and times. Some prominent examples are the\n",
        "works of Shakespeare, Andersen, Homer,...\n",
        "\"\"\"\n",
        "\n",
        "word_count = len(text.split())\n",
        "print(word_count)"
      ],
      "metadata": {
        "colab": {
          "base_uri": "https://localhost:8080/"
        },
        "id": "hMqfyjmtEJpy",
        "outputId": "022af8d9-b582-4468-db42-2fcf1f40b8a8"
      },
      "execution_count": 27,
      "outputs": [
        {
          "output_type": "stream",
          "name": "stdout",
          "text": [
            "70\n"
          ]
        }
      ]
    },
    {
      "cell_type": "code",
      "source": [
        "#Exercise013\n",
        "\n",
        "from collections import Counter\n",
        "\n",
        "text = \"\"\"\n",
        "In the span of humanity, writing are what enabled humans to pass on many\n",
        "knowledge to their next generation. Via writing, the art of telling stories; both\n",
        "fictional and real; evolved and became a huge part of humanity culture. Among\n",
        "them, there are stories that transcend languages, culture and history to reach\n",
        "people far away both in spaces and times. Some prominent examples are the\n",
        "works of Shakespeare, Andersen, Homer,...\n",
        "\"\"\"\n",
        "\n",
        "words = text.split()\n",
        "word_counts = Counter(words)\n",
        "sorted_word_counts = sorted(word_counts.items(), key=lambda item: item[1], reverse=True)\n",
        "for word, count in sorted_word_counts:\n",
        "    print(f\"{word}: {count}\")"
      ],
      "metadata": {
        "colab": {
          "base_uri": "https://localhost:8080/"
        },
        "id": "m8Y9hws0EQK8",
        "outputId": "03270c39-81f9-4415-a9ed-4ba2c16fb071"
      },
      "execution_count": 28,
      "outputs": [
        {
          "output_type": "stream",
          "name": "stdout",
          "text": [
            "of: 4\n",
            "and: 4\n",
            "the: 3\n",
            "are: 3\n",
            "to: 3\n",
            "both: 2\n",
            "In: 1\n",
            "span: 1\n",
            "humanity,: 1\n",
            "writing: 1\n",
            "what: 1\n",
            "enabled: 1\n",
            "humans: 1\n",
            "pass: 1\n",
            "on: 1\n",
            "many: 1\n",
            "knowledge: 1\n",
            "their: 1\n",
            "next: 1\n",
            "generation.: 1\n",
            "Via: 1\n",
            "writing,: 1\n",
            "art: 1\n",
            "telling: 1\n",
            "stories;: 1\n",
            "fictional: 1\n",
            "real;: 1\n",
            "evolved: 1\n",
            "became: 1\n",
            "a: 1\n",
            "huge: 1\n",
            "part: 1\n",
            "humanity: 1\n",
            "culture.: 1\n",
            "Among: 1\n",
            "them,: 1\n",
            "there: 1\n",
            "stories: 1\n",
            "that: 1\n",
            "transcend: 1\n",
            "languages,: 1\n",
            "culture: 1\n",
            "history: 1\n",
            "reach: 1\n",
            "people: 1\n",
            "far: 1\n",
            "away: 1\n",
            "in: 1\n",
            "spaces: 1\n",
            "times.: 1\n",
            "Some: 1\n",
            "prominent: 1\n",
            "examples: 1\n",
            "works: 1\n",
            "Shakespeare,: 1\n",
            "Andersen,: 1\n",
            "Homer,...: 1\n"
          ]
        }
      ]
    }
  ]
}