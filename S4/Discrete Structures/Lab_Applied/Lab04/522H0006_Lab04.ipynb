{
  "nbformat": 4,
  "nbformat_minor": 0,
  "metadata": {
    "colab": {
      "provenance": []
    },
    "kernelspec": {
      "name": "python3",
      "display_name": "Python 3"
    },
    "language_info": {
      "name": "python"
    }
  },
  "cells": [
    {
      "cell_type": "code",
      "execution_count": null,
      "metadata": {
        "colab": {
          "base_uri": "https://localhost:8080/"
        },
        "id": "7FP6Cn-N6vBY",
        "outputId": "edf742f9-61a4-4f25-8052-bc3297d98e8f"
      },
      "outputs": [
        {
          "output_type": "stream",
          "name": "stdout",
          "text": [
            "a) VALID\n",
            "b) INVALID\n",
            "C) INVALID\n",
            "d) VALID\n"
          ]
        }
      ],
      "source": [
        "#Exercise01\n",
        "print(\"a) VALID\")\n",
        "print(\"b) INVALID\")\n",
        "print(\"C) INVALID\")\n",
        "print(\"d) VALID\")"
      ]
    },
    {
      "cell_type": "code",
      "source": [
        "#Exercise02\n",
        "print(\"a)\")\n",
        "for x in range(0, 100+1):\n",
        "  if (x**2 == 15**2 + 16**2):\n",
        "    print(f\"the given statement is correct when exists x**2 equal to 15**2 + 16**2 in range 0->100 when x = {x}\")\n",
        "    break;\n",
        "  elif (x==100 and x**2 != 15**2 + 16**2):\n",
        "    print(\"the given statement is incorrect for all values x within the given domain\")\n",
        "\n",
        "print(\"b)\")\n",
        "for x in range(0, 100+1):\n",
        "  if (x**2 == 12**2 + 16**2):\n",
        "    print(f\"the given statement is correct when exists x**2 equal to 12**2 + 16**2 in range 0->100 when x = {x}\")\n",
        "    break;\n",
        "  elif (x==100 and x**2 != 12**2 + 16**2):\n",
        "    print(\"the given statement is incorrect for all values x within the given domain\")\n",
        "\n",
        "print(\"c)\")\n",
        "for x in range(-50, 50+1):\n",
        "  if (x**2 >= 99*x):\n",
        "    print(f\"the given statement is correct when exists x**2 greater or equal to 99x in range -50->50 when x = {x}\")\n",
        "    break;\n",
        "  elif (x==50 and x**2 < 99*x):\n",
        "    print(\"the given statement is incorrect for all values x within the given domain\")\n",
        "\n",
        "print(\"d)\")\n",
        "for x in range(50, 100+1):\n",
        "  if (x*(x+1)*(x+2)%6 != 0):\n",
        "    print(f\"the given statement is correct when exists x*(x+1)*(x+2)%6 different from 0 in range 50->100 when x = {x}\")\n",
        "    break\n",
        "  elif (x==100 and x*(x+1)*(x+2)%6 == 0):\n",
        "    print(\"the given statement is incorrect for all values x within the given domain\")\n",
        "\n",
        "print(\"e)\")\n",
        "for x in range(0, 100+1):\n",
        "  for y in range(0, 100+1):\n",
        "    if ((x+y)**1/2 == x**1/2 + y**1/2):\n",
        "      print(f\"the given statement is correct when exists (x+y)**1/2 equal to x**1/2 + y**1/2 0 in range 0->100 when x = {x} and y = {y}\")\n",
        "      break\n",
        "  else:\n",
        "    continue\n",
        "  break\n",
        "else:\n",
        "  print(\"the given statement is incorrect for all values x within the given domain\")\n",
        "\n"
      ],
      "metadata": {
        "colab": {
          "base_uri": "https://localhost:8080/"
        },
        "id": "4Mxl3Pll-D7t",
        "outputId": "984a8c23-0f51-4ad3-f3ee-65eeac657911"
      },
      "execution_count": null,
      "outputs": [
        {
          "output_type": "stream",
          "name": "stdout",
          "text": [
            "a)\n",
            "the given statement is incorrect for all values x within the given domain\n",
            "b)\n",
            "the given statement is correct when exists x**2 equal to 12**2 + 16**2 in range 0->100 when x = 20\n",
            "c)\n",
            "the given statement is correct when exists x**2 greater or equal to 99x in range -50->50 when x = -50\n",
            "d)\n",
            "the given statement is incorrect for all values x within the given domain\n",
            "e)\n",
            "the given statement is correct when exists (x+y)**1/2 equal to x**1/2 + y**1/2 0 in range 0->100 when x = 0 and y = 0\n"
          ]
        }
      ]
    },
    {
      "cell_type": "code",
      "source": [
        "#Exercise03\n",
        "def is_prime(number):\n",
        "    if number < 2:\n",
        "        return False\n",
        "    for i in range(2, int(number**0.5) + 1):\n",
        "        if number % i == 0:\n",
        "            return False\n",
        "    return True\n",
        "\n",
        "print(\"a) ∃x ∈ Z, 0 ≤ x ≤ 100, x**3 < x\")\n",
        "for x in range(0, 100+1):\n",
        "  if (x**3 < x):\n",
        "    print(f\"the given statement is correct \")\n",
        "    break;\n",
        "  elif (x==100 and x**3 >= x):\n",
        "    print(\"the given statement is incorrect \")\n",
        "\n",
        "print(\"b) ∃x ∈ Z, 0 ≤ x ≤ 100, and x is odd, x ∗ 3 + 1 is not a prime number\")\n",
        "for x in range(0, 100+1):\n",
        "  if (is_prime(x*3 + 1) == False and x % 2 != 0):\n",
        "    print(f\"the given statement is correct \")\n",
        "    break;\n",
        "  elif (x==100 and is_prime(x*3 + 1) == True and x % 2 == 0):\n",
        "    print(\"the given statement is incorrect \")\n",
        "\n",
        "print(\"c) ∃x ∈ Z, 1 ≤ x,y ≤ 100, and x is not even, x ∗ 5 + 3 is not a prime number\")\n",
        "for x in range(1, 100+1):\n",
        "  if (is_prime(x*5+3) == False and x % 2 != 0):\n",
        "    print(f\"the given statement is correct \")\n",
        "    break;\n",
        "  elif (x==100 and is_prime(x*5+3) == True and x % 2 == 0):\n",
        "    print(\"the given statement is incorrect \")\n",
        "\n",
        "print(\"d) ∃c ∈ Z, 0 < c ≤ 100, c%4 != 0, ∀a,b ∈ Z+, c2 != a2 + b2\")\n",
        "for c in range(0, 100+1):\n",
        "  if (c % 4 != 0):\n",
        "    for a in range(1,c):\n",
        "      for b in range(1,c):\n",
        "        if(c**2 != a**2 + b**2):\n",
        "          print(f\"the given statement is correct \")\n",
        "          break\n",
        "      else:\n",
        "        continue\n",
        "      break\n",
        "    else:\n",
        "        continue\n",
        "    break\n",
        "else:\n",
        "    print(\"the given statement is incorrect \")\n",
        "\n",
        "print(\"e) ∃c ∈ Z, 0 < c ≤ 100, c%5 != 0, ∀a,b ∈ Z+, c2 != a2 + b2\")\n",
        "for c in range(0, 100+1):\n",
        "  if (c % 5 != 0):\n",
        "    for a in range(1,c):\n",
        "      for b in range(1,c):\n",
        "        if(c**2 != a**2 + b**2):\n",
        "          print(f\"the given statement is correct \")\n",
        "          break\n",
        "      else:\n",
        "        continue\n",
        "      break\n",
        "    else:\n",
        "        continue\n",
        "    break\n",
        "else:\n",
        "    print(\"the given statement is incorrect \")\n",
        "\n",
        "print(\"f) ∀x ∈ Z, 0 ≤ x ≤ 100, c**2 > c\" )\n",
        "for c in range(0, 100+1):\n",
        "  if (c**2 > c):\n",
        "    print(f\"the given statement is correct \")\n",
        "    break;\n",
        "  elif (x==100 and x**2 <= c):\n",
        "    print(\"the given statement is incorrect \")"
      ],
      "metadata": {
        "colab": {
          "base_uri": "https://localhost:8080/"
        },
        "id": "nuTVvjMy-tj4",
        "outputId": "6683d07f-8a3f-449a-aa02-b4dd6da5c7a3"
      },
      "execution_count": null,
      "outputs": [
        {
          "output_type": "stream",
          "name": "stdout",
          "text": [
            "a) ∃x ∈ Z, 0 ≤ x ≤ 100, x**3 < x\n",
            "the given statement is incorrect \n",
            "b) ∃x ∈ Z, 0 ≤ x ≤ 100, and x is odd, x ∗ 3 + 1 is not a prime number\n",
            "the given statement is correct \n",
            "c) ∃x ∈ Z, 1 ≤ x,y ≤ 100, and x is not even, x ∗ 5 + 3 is not a prime number\n",
            "the given statement is correct \n",
            "d) ∃c ∈ Z, 0 < c ≤ 100, c%4 != 0, ∀a,b ∈ Z+, c2 != a2 + b2\n",
            "the given statement is correct \n",
            "e) ∃c ∈ Z, 0 < c ≤ 100, c%5 != 0, ∀a,b ∈ Z+, c2 != a2 + b2\n",
            "the given statement is correct \n",
            "f) ∀x ∈ Z, 0 ≤ x ≤ 100, c**2 > c\n",
            "the given statement is correct \n"
          ]
        }
      ]
    },
    {
      "cell_type": "code",
      "source": [
        "#Exercise04\n",
        "\n",
        "#a\n",
        "print(\"a)\")\n",
        "suma1 = 0\n",
        "suma2 = 0\n",
        "for x in range(11):\n",
        "  for y in range(11):\n",
        "    suma1 = suma1 = (x+y)**2\n",
        "    suma2 = suma2 = (x+2*y)**2\n",
        "if (suma1 > suma2):\n",
        "  print(\"Correct\")\n",
        "else:\n",
        "  print(\"Incorrect\")\n",
        "\n",
        "#b\n",
        "def factorial(n):\n",
        "    if n == 0:\n",
        "        return 1\n",
        "    else:\n",
        "        return n * factorial(n-1)\n",
        "\n",
        "print(\"b\")\n",
        "sumb = 0\n",
        "for x in range(11):\n",
        "  sumb = sumb + factorial(x)\n",
        "if (sumb <= factorial(20)):\n",
        "  print(\"Incorrect\")\n",
        "else:\n",
        "  print(\"Correct\")\n",
        "\n",
        "#c\n",
        "print(\"c\")\n",
        "sumc = 0\n",
        "for x in range(11):\n",
        "  sumc = sumc + 3*x*x\n",
        "if (sumc <= 10**3):\n",
        "  print(\"Incorrect\")\n",
        "else:\n",
        "  print(\"Correct\")\n",
        "\n",
        "#d\n",
        "print(\"d)\")\n",
        "sumd = 0\n",
        "for x in range(5, 11, 1):\n",
        "  sumd = sumd + 4**3 + 6**2 + 2*x\n",
        "if (sumd <= (10**4 + 2*10*10*10 + 10*10 -5**4 -2*5*5*5 -5**2)):\n",
        "  print(\"Incorrect\")\n",
        "else:\n",
        "  print(\"Correct\")"
      ],
      "metadata": {
        "colab": {
          "base_uri": "https://localhost:8080/"
        },
        "id": "_QFJcnfnKh4i",
        "outputId": "b48dba8d-4423-47db-c771-d3dfb280ed1e"
      },
      "execution_count": 1,
      "outputs": [
        {
          "output_type": "stream",
          "name": "stdout",
          "text": [
            "a)\n",
            "Incorrect\n",
            "b\n",
            "Incorrect\n",
            "c\n",
            "Correct\n",
            "d)\n",
            "Incorrect\n"
          ]
        }
      ]
    },
    {
      "cell_type": "code",
      "source": [
        "#Exercise05\n",
        "print(\"a) INVALID\")\n",
        "print(\"b) VALID\")\n",
        "print(\"C) INVALID\")\n",
        "print(\"d) INVALID\")"
      ],
      "metadata": {
        "colab": {
          "base_uri": "https://localhost:8080/"
        },
        "id": "nz49GnOMSDKX",
        "outputId": "67f441bf-d3d8-4ebb-cf30-d008e245e367"
      },
      "execution_count": null,
      "outputs": [
        {
          "output_type": "stream",
          "name": "stdout",
          "text": [
            "a) INVALID\n",
            "b) VALID\n",
            "C) INVALID\n",
            "d) INVALID\n"
          ]
        }
      ]
    }
  ]
}