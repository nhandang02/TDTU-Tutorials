{
  "nbformat": 4,
  "nbformat_minor": 0,
  "metadata": {
    "colab": {
      "provenance": []
    },
    "kernelspec": {
      "name": "python3",
      "display_name": "Python 3"
    },
    "language_info": {
      "name": "python"
    }
  },
  "cells": [
    {
      "cell_type": "code",
      "source": [
        "#Exercise01\n",
        "P = \"You get a good grade in the midterm exam\"\n",
        "Q = \"You understand how to solve all the exercises in the book\"\n",
        "\n",
        "prop_a = f\"{Q} -> {P}  & {P} -> {Q}\"\n",
        "prop_b = f\"{Q} & ~{P})\"\n",
        "prop_c = f\"{Q} -> {P}\"\n",
        "\n",
        "print(\"a) \", prop_a)\n",
        "print(\"b) \", prop_b)\n",
        "print(\"c) \", prop_c)\n"
      ],
      "metadata": {
        "colab": {
          "base_uri": "https://localhost:8080/"
        },
        "id": "tsy26SPACPTx",
        "outputId": "8d2c71b4-e141-49fb-e4c7-b67e5f19e28d"
      },
      "execution_count": 2,
      "outputs": [
        {
          "output_type": "stream",
          "name": "stdout",
          "text": [
            "a)  You understand how to solve all the exercises in the book -> You get a good grade in the midterm exam  & You get a good grade in the midterm exam -> You understand how to solve all the exercises in the book\n",
            "b)  You understand how to solve all the exercises in the book & ~You get a good grade in the midterm exam)\n",
            "c)  You understand how to solve all the exercises in the book -> You get a good grade in the midterm exam\n"
          ]
        }
      ]
    },
    {
      "cell_type": "code",
      "source": [
        "#Exercise02\n",
        "print(\"a) If you understand how to solve all the exercises in the book, then you will get a good grade in the midterm exam, and if you get a good grade in the midterm exam, it means you understand how to solve all the exercises in the book.\")\n",
        "print(\"b) You understand how to solve all the exercises in the book, but you did not get a good grade in the midterm exam.\")\n",
        "print(\"c)  You will get a good grade in the midterm exam if and only if you understand how to solve all the exercises in the book.\")"
      ],
      "metadata": {
        "colab": {
          "base_uri": "https://localhost:8080/"
        },
        "id": "9L3fV8UnEl0z",
        "outputId": "82a83e24-7524-4794-b5a2-79d023e1a139"
      },
      "execution_count": 3,
      "outputs": [
        {
          "output_type": "stream",
          "name": "stdout",
          "text": [
            "a) If you understand how to solve all the exercises in the book, then you will get a good grade in the midterm exam, and if you get a good grade in the midterm exam, it means you understand how to solve all the exercises in the book.\n",
            "b) You understand how to solve all the exercises in the book, but you did not get a good grade in the midterm exam.\n",
            "c)  You will get a good grade in the midterm exam if and only if you understand how to solve all the exercises in the book.\n"
          ]
        }
      ]
    },
    {
      "cell_type": "code",
      "source": [
        "#Exercise03\n",
        "print(\"Propositional forms:\")\n",
        "print(\"a)\")\n",
        "print(\"Negation: (Q -> P) ∧ (P -> Q)\")\n",
        "print(\"Converse: (P -> Q) ∧ (Q -> P)\")\n",
        "print(\"Contrapositive: (¬P -> ¬Q) ∧ (¬Q -> ¬P)\")\n",
        "\n",
        "print(\"b)\")\n",
        "print(\"Negation: ¬(Q ∧ ¬P)\")\n",
        "print(\"Converse: ¬P ∧ Q\")\n",
        "print(\"Contrapositive: P ∧ ¬Q\")\n",
        "\n",
        "print(\"c)\")\n",
        "print(\"Negation: ¬(Q -> P)\")\n",
        "print(\"Converse: P -> Q\")\n",
        "print(\"Contrapositive: ¬P -> ¬Q\")\n",
        "\n",
        "print(\"Natural language\")\n",
        "print(\"a)\")\n",
        "print(\"Negation: It is not the case that if you understand how to solve all the exercises in the book, then you will get a good grade in the midterm exam, and if you get a good grade in the midterm exam, it means you understand how to solve all the exercises in the book.\")\n",
        "print(\"Converse: If you get a good grade in the midterm exam, then you understand how to solve all the exercises in the book, and if you understand how to solve all the exercises in the book, then you get a good grade in the midterm exam.\")\n",
        "print(\"Contrapositive: If you do not understand how to solve all the exercises in the book, then you will not get a good grade in the midterm exam, and if you do not get a good grade in the midterm exam, it means you do not understand how to solve all the exercises in the book.\")\n",
        "\n",
        "\n",
        "print(\"b)\")\n",
        "print(\"Negation: It is not the case that you understand how to solve all the exercises in the book and you did not get a good grade in the midterm exam.\")\n",
        "print(\"Converse: You did not get a good grade in the midterm exam, but you understand how to solve all the exercises in the book.\")\n",
        "print(\"Contrapositive: If you got a good grade in the midterm exam, then you did not understand how to solve all the exercises in the book.\")\n",
        "\n",
        "print(\"c)\")\n",
        "print(\"Negation: It is not the case that if you understand how to solve all the exercises in the book, then you will get a good grade in the midterm exam.\")\n",
        "print(\"Converse: If you get a good grade in the midterm exam, then you understand how to solve all the exercises in the book.\")\n",
        "print(\"Contrapositive: If you do not get a good grade in the midterm exam, then you do not understand how to solve all the exercises in the book.\")\n",
        "\n",
        "\n"
      ],
      "metadata": {
        "colab": {
          "base_uri": "https://localhost:8080/"
        },
        "id": "5v61uFWjHUAU",
        "outputId": "90c2aae7-cdbe-4858-f6c5-8abef8a3b1e4"
      },
      "execution_count": 4,
      "outputs": [
        {
          "output_type": "stream",
          "name": "stdout",
          "text": [
            "Propositional forms:\n",
            "a)\n",
            "Negation: (Q -> P) ∧ (P -> Q)\n",
            "Converse: (P -> Q) ∧ (Q -> P)\n",
            "Contrapositive: (¬P -> ¬Q) ∧ (¬Q -> ¬P)\n",
            "b)\n",
            "Negation: ¬(Q ∧ ¬P)\n",
            "Converse: ¬P ∧ Q\n",
            "Contrapositive: P ∧ ¬Q\n",
            "c)\n",
            "Negation: ¬(Q -> P)\n",
            "Converse: P -> Q\n",
            "Contrapositive: ¬P -> ¬Q\n",
            "Natural language\n",
            "a)\n",
            "Negation: It is not the case that if you understand how to solve all the exercises in the book, then you will get a good grade in the midterm exam, and if you get a good grade in the midterm exam, it means you understand how to solve all the exercises in the book.\n",
            "Converse: If you get a good grade in the midterm exam, then you understand how to solve all the exercises in the book, and if you understand how to solve all the exercises in the book, then you get a good grade in the midterm exam.\n",
            "Contrapositive: If you do not understand how to solve all the exercises in the book, then you will not get a good grade in the midterm exam, and if you do not get a good grade in the midterm exam, it means you do not understand how to solve all the exercises in the book.\n",
            "b)\n",
            "Negation: It is not the case that you understand how to solve all the exercises in the book and you did not get a good grade in the midterm exam.\n",
            "Converse: You did not get a good grade in the midterm exam, but you understand how to solve all the exercises in the book.\n",
            "Contrapositive: If you got a good grade in the midterm exam, then you did not understand how to solve all the exercises in the book.\n",
            "c)\n",
            "Negation: It is not the case that if you understand how to solve all the exercises in the book, then you will get a good grade in the midterm exam.\n",
            "Converse: If you get a good grade in the midterm exam, then you understand how to solve all the exercises in the book.\n",
            "Contrapositive: If you do not get a good grade in the midterm exam, then you do not understand how to solve all the exercises in the book.\n"
          ]
        }
      ]
    },
    {
      "cell_type": "code",
      "source": [
        "#Exercise04\n",
        "#a)\n",
        "p = \"Phong has Visa\"\n",
        "q = \"Phong can fly\"\n",
        "r = \"Phong can speak English\"\n",
        "t = \"Phong goes to America\"\n",
        "\n",
        "# Statements\n",
        "S1 = \"q -> t\"\n",
        "S2 = \"p -> t\"\n",
        "S3 = \"r -> t\"\n",
        "C = \"t\"\n",
        "\n",
        "print(\"a)\")\n",
        "print(f\"Given P: {p}\")\n",
        "print(f\"S1: {S1}\")\n",
        "print(f\"S2: {S2}\")\n",
        "print(f\"S3: {S3}\")\n",
        "print(f\"Conclusion C: {C}\\n\")\n",
        "\n",
        "#b)\n",
        "p = \"An wakes up late\"\n",
        "q = \"The traffic is flowing smooth\"\n",
        "not_q = \"The traffic is heavy\"\n",
        "r = \"School day\"\n",
        "s = \"An has to go to school\"\n",
        "v = \"An is late for school\"\n",
        "\n",
        "# Statements\n",
        "S1 = \"r -> ~q\"\n",
        "S2 = \"p and r -> v\"\n",
        "S3 = \"r <-> s\"\n",
        "S4 = \"~s -> ¬v\"\n",
        "C = \"v\"\n",
        "\n",
        "#b)\n",
        "print(\"b)\")\n",
        "print(f\"Given P: {p}\")\n",
        "print(f\"Q: {q}\")\n",
        "print(f\"S1: {S1}\")\n",
        "print(f\"S2: {S2}\")\n",
        "print(f\"S3: {S3}\")\n",
        "print(f\"S4: {S4}\")\n",
        "print(f\"Conclusion C: {C}\")"
      ],
      "metadata": {
        "id": "0--YsaQDLDWz",
        "colab": {
          "base_uri": "https://localhost:8080/"
        },
        "outputId": "df1f33d8-91dc-4d50-dd86-9b40c38b5e51"
      },
      "execution_count": 5,
      "outputs": [
        {
          "output_type": "stream",
          "name": "stdout",
          "text": [
            "a)\n",
            "Given P: Phong has Visa\n",
            "S1: q -> t\n",
            "S2: p -> t\n",
            "S3: r -> t\n",
            "Conclusion C: t\n",
            "\n",
            "b)\n",
            "Given P: An wakes up late\n",
            "Q: The traffic is flowing smooth\n",
            "S1: r -> ~q\n",
            "S2: p and r -> v\n",
            "S3: r <-> s\n",
            "S4: ~s -> ¬v\n",
            "Conclusion C: v\n"
          ]
        }
      ]
    },
    {
      "cell_type": "code",
      "source": [
        "#Exercise05\n",
        "\n",
        "#a\n",
        "p = True  # Phong has Visa\n",
        "q = True  # Phong can fly\n",
        "r = True  # Phong can speak English\n",
        "t = True  # Phong goes to America\n",
        "\n",
        "\n",
        "print(\"a)\")\n",
        "print(\"p q r t | S1 S2 S3 | C\")\n",
        "print(\"-----------------------\")\n",
        "for p in [True, False]:\n",
        "    for q in [True, False]:\n",
        "        for r in [True, False]:\n",
        "            t = p or q or r  # Phong goes to America if any of the conditions are met\n",
        "            S1 = q == t\n",
        "            S2 = p == t\n",
        "            S3 = r == t\n",
        "            C = t\n",
        "            print(f\"{p} {q} {r} {t} | {S1} {S2} {S3} | {C}\")\n",
        "#b\n",
        "p = True  # An wakes up late\n",
        "q = True  # The traffic is flowing smooth\n",
        "r = True  # School day\n",
        "s = True  # An has to go to school\n",
        "v = True  # An is late for school\n",
        "\n",
        "print(\"b)\")\n",
        "print(\"p q r s v | S1 S2 S3 S4 | C\")\n",
        "print(\"----------------------------\")\n",
        "for p in [True, False]:\n",
        "    for q in [True, False]:\n",
        "        for r in [True, False]:\n",
        "            s = r  # An has to go to school on a school day\n",
        "            v = p and r  # An is late for school if he wakes up late on a school day\n",
        "            S1 = r != q\n",
        "            S2 = (p and r) == v\n",
        "            S3 = r == s\n",
        "            S4 = (not s) == False\n",
        "            C = v\n",
        "            print(f\"{p} {q} {r} {s} {v} | {S1} {S2} {S3} {S4} | {C}\")"
      ],
      "metadata": {
        "colab": {
          "base_uri": "https://localhost:8080/"
        },
        "id": "49eXj3xo-yjy",
        "outputId": "97550257-eba7-4369-f922-82339bf2d444"
      },
      "execution_count": 6,
      "outputs": [
        {
          "output_type": "stream",
          "name": "stdout",
          "text": [
            "a)\n",
            "p q r t | S1 S2 S3 | C\n",
            "-----------------------\n",
            "True True True True | True True True | True\n",
            "True True False True | True True False | True\n",
            "True False True True | False True True | True\n",
            "True False False True | False True False | True\n",
            "False True True True | True False True | True\n",
            "False True False True | True False False | True\n",
            "False False True True | False False True | True\n",
            "False False False False | True True True | False\n",
            "b)\n",
            "p q r s v | S1 S2 S3 S4 | C\n",
            "----------------------------\n",
            "True True True True True | False True True True | True\n",
            "True True False False False | True True True False | False\n",
            "True False True True True | True True True True | True\n",
            "True False False False False | False True True False | False\n",
            "False True True True False | False True True True | False\n",
            "False True False False False | True True True False | False\n",
            "False False True True False | True True True True | False\n",
            "False False False False False | False True True False | False\n"
          ]
        }
      ]
    },
    {
      "cell_type": "code",
      "source": [
        "#Exercise06\n",
        "\n",
        "import math\n",
        "\n",
        "A = [\n",
        "    [2, 0, 5, 0, 3, 0],\n",
        "    [3, 0, 0, 0, 0, 0],\n",
        "    [0, 6, 2, 0, 5, 0],\n",
        "    [3, 0, 9, 0, 25, 0],\n",
        "    [0, 0, 2, 4, 5, 0],\n",
        "    [0, 0, 0, 0, 0, 5]\n",
        "]\n",
        "\n",
        "def isOdd(a):\n",
        "    return a % 2 != 0\n",
        "\n",
        "def isPrime(a):\n",
        "    if a <= 1:\n",
        "        return False\n",
        "    for i in range(2, int(math.sqrt(a)) + 1):\n",
        "        if a % i == 0:\n",
        "            return False\n",
        "    return True\n",
        "\n",
        "def isSquare(a):\n",
        "    return math.isqrt(a) ** 2 == a\n",
        "\n",
        "def isGreater(a, b):\n",
        "    return a > b\n",
        "\n",
        "def isEqual(a, b):\n",
        "    return a == b\n",
        "\n",
        "def isAbove(a, b, A):\n",
        "    for i in range(len(A)):\n",
        "        for j in range(len(A[i])):\n",
        "            if A[i][j] == a:\n",
        "                row_a = i\n",
        "            if A[i][j] == b:\n",
        "                row_b = i\n",
        "    return row_a < row_b\n",
        "\n",
        "def isLeftOf(a, b, A):\n",
        "    for i in range(len(A)):\n",
        "        for j in range(len(A[i])):\n",
        "            if A[i][j] == a:\n",
        "                col_a = j\n",
        "            if A[i][j] == b:\n",
        "                col_b = j\n",
        "    return col_a < col_b\n",
        "\n",
        "#a)\n",
        "statement_a = any(not isOdd(a) and isPrime(a) for row in A for a in row)\n",
        "\n",
        "#b)\n",
        "statement_b = all(isOdd(a) == isSquare(a) for row in A for a in row if a != 0)\n",
        "\n",
        "#c)\n",
        "statement_c = all(isOdd(a) == isGreater(a, 2) for row in A for a in row if a != 0)\n",
        "\n",
        "#d)\n",
        "statement_d = any(isPrime(a) and not (isGreater(a, 3) or isEqual(a, 3)) for row in A for a in row)\n",
        "\n",
        "#e)\n",
        "statement_e = any(all(isLeftOf(a, b, A) for b in row) for row in A for a in row if a != 0)\n",
        "\n",
        "#f)\n",
        "statement_f = any(all(isGreater(a, b) == (not isAbove(a, b, A)) for b in row) for row in A for a in row if a != 0)\n",
        "\n",
        "#g)\n",
        "statement_g = all(any(isPrime(a) and not isOdd(a) and isOdd(b) and isAbove(a, b, A) for b in row) for row in A for a in row if a != 0)\n",
        "\n",
        "#h)\n",
        "statement_h = all(all(isSquare(a) and a % 2 == 0 and b % 2 == 0 and not isEqual(a, b) == isLeftOf(b, a, A) for b in row) for row in A for a in row if a != 0)\n",
        "\n",
        "print(\"a)\", statement_a)\n",
        "print(\"b)\", statement_b)\n",
        "print(\"c)\", statement_c)\n",
        "print(\"d)\", statement_d)\n",
        "print(\"e)\", statement_e)\n",
        "print(\"f)\", statement_f)\n",
        "print(\"g)\", statement_g)\n",
        "print(\"h)\", statement_h)"
      ],
      "metadata": {
        "colab": {
          "base_uri": "https://localhost:8080/"
        },
        "id": "gm64MzKb-66L",
        "outputId": "7e6c8015-c2cf-4603-d172-c599c705f5ad"
      },
      "execution_count": 7,
      "outputs": [
        {
          "output_type": "stream",
          "name": "stdout",
          "text": [
            "a) True\n",
            "b) False\n",
            "c) False\n",
            "d) True\n",
            "e) False\n",
            "f) False\n",
            "g) False\n",
            "h) False\n"
          ]
        }
      ]
    }
  ]
}